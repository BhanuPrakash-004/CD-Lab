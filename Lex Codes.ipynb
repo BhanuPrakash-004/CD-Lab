{
  "nbformat": 4,
  "nbformat_minor": 0,
  "metadata": {
    "colab": {
      "provenance": [],
      "include_colab_link": true
    },
    "kernelspec": {
      "name": "python3",
      "display_name": "Python 3"
    },
    "language_info": {
      "name": "python"
    }
  },
  "cells": [
    {
      "cell_type": "markdown",
      "metadata": {
        "id": "view-in-github",
        "colab_type": "text"
      },
      "source": [
        "<a href=\"https://colab.research.google.com/github/BhanuPrakash-004/CD-Lab/blob/main/Lex%20Codes.ipynb\" target=\"_parent\"><img src=\"https://colab.research.google.com/assets/colab-badge.svg\" alt=\"Open In Colab\"/></a>"
      ]
    },
    {
      "cell_type": "code",
      "source": [
        "#@title Install *prerqeuisites* (run this cell first to work on LEX/YACC)\n",
        "!sudo apt install flex bison"
      ],
      "metadata": {
        "cellView": "form",
        "id": "CM_9N3RogX8y"
      },
      "execution_count": null,
      "outputs": []
    },
    {
      "cell_type": "markdown",
      "source": [
        "## Lex-programs\n"
      ],
      "metadata": {
        "id": "0IYbRG4He38g"
      }
    },
    {
      "cell_type": "markdown",
      "source": [
        "1)To display a message using all the section in the lex & without using declaration & Auxiliary Procedure."
      ],
      "metadata": {
        "id": "Z5zrMMhaY0K3"
      }
    },
    {
      "cell_type": "code",
      "execution_count": 4,
      "metadata": {
        "colab": {
          "base_uri": "https://localhost:8080/"
        },
        "id": "Jyt0i_pTexWf",
        "outputId": "d754511d-1410-4cd3-957c-2e3ff806f5b3"
      },
      "outputs": [
        {
          "output_type": "stream",
          "name": "stdout",
          "text": [
            "Writing message.l\n"
          ]
        }
      ],
      "source": [
        "#@title Writing Lex program\n",
        "%%writefile message.l\n",
        "\n",
        "%{\n",
        "/* Declaration Section */\n",
        "%}\n",
        "\n",
        "/* Definition Section */\n",
        "%%\n",
        ".   { printf(\"Hello! This program uses all LEX sections.\\n\"); }\n",
        "%%\n",
        "\n",
        "/* No Auxiliary functions */\n"
      ]
    },
    {
      "cell_type": "markdown",
      "source": [
        "if you want to use at txt as an input"
      ],
      "metadata": {
        "id": "erI5UjQzg3Sy"
      }
    },
    {
      "cell_type": "code",
      "source": [
        "%%writefile input.txt\n",
        "\n",
        "abc"
      ],
      "metadata": {
        "colab": {
          "base_uri": "https://localhost:8080/"
        },
        "id": "MUUdcBtRgtjf",
        "outputId": "719092dd-985b-4686-d191-b5b4e942b780"
      },
      "execution_count": 5,
      "outputs": [
        {
          "output_type": "stream",
          "name": "stdout",
          "text": [
            "Writing input.txt\n"
          ]
        }
      ]
    },
    {
      "cell_type": "code",
      "source": [
        "%%shell\n",
        "lex message.l\n",
        "cc -o name lex.yy.c -ll\n",
        "./name < input.txt"
      ],
      "metadata": {
        "colab": {
          "base_uri": "https://localhost:8080/"
        },
        "id": "QBs1vVE_fcnX",
        "outputId": "97610973-0368-4200-f5dd-b58292161757"
      },
      "execution_count": 19,
      "outputs": [
        {
          "output_type": "stream",
          "name": "stdout",
          "text": [
            "\n",
            "Hello! This program uses all LEX sections.\n",
            "Hello! This program uses all LEX sections.\n",
            "Hello! This program uses all LEX sections.\n",
            "\n"
          ]
        },
        {
          "output_type": "execute_result",
          "data": {
            "text/plain": []
          },
          "metadata": {},
          "execution_count": 19
        }
      ]
    },
    {
      "cell_type": "code",
      "source": [
        "\n",
        "%%shell\n",
        "\n",
        "lex message.l\n",
        "gcc lex.yy.c -o message -ll\n",
        "./message < input.txt\n"
      ],
      "metadata": {
        "colab": {
          "base_uri": "https://localhost:8080/"
        },
        "id": "tqpZgNYpe263",
        "outputId": "2c3237f5-3d82-489a-cfda-4b82995cf0b9"
      },
      "execution_count": 6,
      "outputs": [
        {
          "output_type": "stream",
          "name": "stdout",
          "text": [
            "\n",
            "Hello! This program uses all LEX sections.\n",
            "Hello! This program uses all LEX sections.\n",
            "Hello! This program uses all LEX sections.\n",
            "\n"
          ]
        },
        {
          "output_type": "execute_result",
          "data": {
            "text/plain": []
          },
          "metadata": {},
          "execution_count": 6
        }
      ]
    },
    {
      "cell_type": "markdown",
      "source": [
        "2) Implement a Lexical Analyzer Using Lex Tool"
      ],
      "metadata": {
        "id": "CfAohfa2aJ5v"
      }
    },
    {
      "cell_type": "code",
      "source": [
        "%%writefile lexical_analyzer.l\n",
        "%{\n",
        "#include <stdio.h>\n",
        "%}\n",
        "\n",
        "/* Definition Section */\n",
        "%%\n",
        "\"int\"|\"float\"|\"if\"|\"else\"|\"return\"|\"while\"|\"for\"      { printf(\"Keyword: %s\\n\", yytext); }\n",
        "[0-9]+                                                { printf(\"Number: %s\\n\", yytext); }\n",
        "[a-zA-Z_][a-zA-Z0-9_]*                                { printf(\"Identifier: %s\\n\", yytext); }\n",
        "\"=\"|\"+\"|\"-\"|\"*\"|\"/\"|\"<\"|\">\"                          { printf(\"Operator: %s\\n\", yytext); }\n",
        "[ \\t\\n]+                                              { /* ignore whitespace */ }\n",
        ".                                                     { printf(\"Other: %s\\n\", yytext); }\n",
        "%%\n",
        "\n",
        "int main() {\n",
        "    yylex();\n",
        "    return 0;\n",
        "}\n"
      ],
      "metadata": {
        "colab": {
          "base_uri": "https://localhost:8080/"
        },
        "id": "eUvXcvCTaOBF",
        "outputId": "02e6d1b1-6fa5-4f63-c95a-1ce020680592"
      },
      "execution_count": 11,
      "outputs": [
        {
          "output_type": "stream",
          "name": "stdout",
          "text": [
            "Overwriting lexical_analyzer.l\n"
          ]
        }
      ]
    },
    {
      "cell_type": "code",
      "source": [
        "%%writefile input.c\n",
        "int a = 5;\n",
        "if (a > 2)\n",
        "    a = a + 1;\n"
      ],
      "metadata": {
        "colab": {
          "base_uri": "https://localhost:8080/"
        },
        "id": "3N3flmhcahdj",
        "outputId": "6b27dce8-8ecc-433c-bf7d-1b3311780ead"
      },
      "execution_count": 12,
      "outputs": [
        {
          "output_type": "stream",
          "name": "stdout",
          "text": [
            "Overwriting input.c\n"
          ]
        }
      ]
    },
    {
      "cell_type": "code",
      "source": [
        "%%shell\n",
        "lex lexical_analyzer.l\n",
        "cc  -o lexical_analyzer lex.yy.c -ll\n",
        "./lexical_analyzer < input.c"
      ],
      "metadata": {
        "collapsed": true,
        "colab": {
          "base_uri": "https://localhost:8080/"
        },
        "id": "3aoQ94Hih2rI",
        "outputId": "30fdc9c7-8bb7-404c-a101-31648f8f9346"
      },
      "execution_count": 23,
      "outputs": [
        {
          "output_type": "stream",
          "name": "stdout",
          "text": [
            "Keyword: int\n",
            "Identifier: a\n",
            "Operator: =\n",
            "Number: 5\n",
            "Other: ;\n",
            "Keyword: if\n",
            "Other: (\n",
            "Identifier: a\n",
            "Operator: >\n",
            "Number: 2\n",
            "Other: )\n",
            "Identifier: a\n",
            "Operator: =\n",
            "Identifier: a\n",
            "Operator: +\n",
            "Number: 1\n",
            "Other: ;\n"
          ]
        },
        {
          "output_type": "execute_result",
          "data": {
            "text/plain": []
          },
          "metadata": {},
          "execution_count": 23
        }
      ]
    },
    {
      "cell_type": "code",
      "source": [
        "%%shell\n",
        "lex lexical_analyzer.l\n",
        "gcc lex.yy.c -o lexical_analyzer -ll\n",
        "./lexical_analyzer < input.c\n"
      ],
      "metadata": {
        "colab": {
          "base_uri": "https://localhost:8080/"
        },
        "collapsed": true,
        "id": "SwgO2YHmapvC",
        "outputId": "7f54c01f-cb71-4b39-a40e-016366417416"
      },
      "execution_count": 13,
      "outputs": [
        {
          "output_type": "stream",
          "name": "stdout",
          "text": [
            "Keyword: int\n",
            "Identifier: a\n",
            "Operator: =\n",
            "Number: 5\n",
            "Other: ;\n",
            "Keyword: if\n",
            "Other: (\n",
            "Identifier: a\n",
            "Operator: >\n",
            "Number: 2\n",
            "Other: )\n",
            "Identifier: a\n",
            "Operator: =\n",
            "Identifier: a\n",
            "Operator: +\n",
            "Number: 1\n",
            "Other: ;\n"
          ]
        },
        {
          "output_type": "execute_result",
          "data": {
            "text/plain": []
          },
          "metadata": {},
          "execution_count": 13
        }
      ]
    }
  ]
}