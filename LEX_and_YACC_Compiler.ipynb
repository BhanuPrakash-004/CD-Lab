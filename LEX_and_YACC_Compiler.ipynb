{
  "nbformat": 4,
  "nbformat_minor": 0,
  "metadata": {
    "colab": {
      "provenance": [],
      "include_colab_link": true
    },
    "kernelspec": {
      "name": "python3",
      "display_name": "Python 3"
    },
    "language_info": {
      "name": "python"
    }
  },
  "cells": [
    {
      "cell_type": "markdown",
      "metadata": {
        "id": "view-in-github",
        "colab_type": "text"
      },
      "source": [
        "<a href=\"https://colab.research.google.com/github/BhanuPrakash-004/CD-Lab/blob/main/LEX_and_YACC_Compiler.ipynb\" target=\"_parent\"><img src=\"https://colab.research.google.com/assets/colab-badge.svg\" alt=\"Open In Colab\"/></a>"
      ]
    },
    {
      "cell_type": "code",
      "source": [
        "#@title Install *prerqeuisites* (run this cell first to work on LEX/YACC)\n",
        "!sudo apt install flex bison"
      ],
      "metadata": {
        "cellView": "form",
        "id": "CM_9N3RogX8y"
      },
      "execution_count": null,
      "outputs": []
    },
    {
      "cell_type": "markdown",
      "source": [
        "## Lex-programs\n"
      ],
      "metadata": {
        "id": "0IYbRG4He38g"
      }
    },
    {
      "cell_type": "markdown",
      "source": [
        "1)To display a message using all the section in the lex & without using declaration & Auxiliary Procedure."
      ],
      "metadata": {
        "id": "Z5zrMMhaY0K3"
      }
    },
    {
      "cell_type": "code",
      "execution_count": 4,
      "metadata": {
        "colab": {
          "base_uri": "https://localhost:8080/"
        },
        "id": "Jyt0i_pTexWf",
        "outputId": "d754511d-1410-4cd3-957c-2e3ff806f5b3"
      },
      "outputs": [
        {
          "output_type": "stream",
          "name": "stdout",
          "text": [
            "Writing message.l\n"
          ]
        }
      ],
      "source": [
        "#@title Writing Lex program\n",
        "%%writefile message.l\n",
        "\n",
        "%{\n",
        "/* Declaration Section */\n",
        "%}\n",
        "\n",
        "/* Definition Section */\n",
        "%%\n",
        ".   { printf(\"Hello! This program uses all LEX sections.\\n\"); }\n",
        "%%\n",
        "\n",
        "/* No Auxiliary functions */\n"
      ]
    },
    {
      "cell_type": "markdown",
      "source": [
        "if you want to use at txt as an input"
      ],
      "metadata": {
        "id": "erI5UjQzg3Sy"
      }
    },
    {
      "cell_type": "code",
      "source": [
        "%%writefile input.txt\n",
        "\n",
        "abc"
      ],
      "metadata": {
        "colab": {
          "base_uri": "https://localhost:8080/"
        },
        "id": "MUUdcBtRgtjf",
        "outputId": "719092dd-985b-4686-d191-b5b4e942b780"
      },
      "execution_count": 5,
      "outputs": [
        {
          "output_type": "stream",
          "name": "stdout",
          "text": [
            "Writing input.txt\n"
          ]
        }
      ]
    },
    {
      "cell_type": "code",
      "source": [
        "%%shell\n",
        "lex message.l\n",
        "cc -o name lex.yy.c -ll\n",
        "./name < input.txt"
      ],
      "metadata": {
        "colab": {
          "base_uri": "https://localhost:8080/"
        },
        "id": "QBs1vVE_fcnX",
        "outputId": "97610973-0368-4200-f5dd-b58292161757"
      },
      "execution_count": 19,
      "outputs": [
        {
          "output_type": "stream",
          "name": "stdout",
          "text": [
            "\n",
            "Hello! This program uses all LEX sections.\n",
            "Hello! This program uses all LEX sections.\n",
            "Hello! This program uses all LEX sections.\n",
            "\n"
          ]
        },
        {
          "output_type": "execute_result",
          "data": {
            "text/plain": []
          },
          "metadata": {},
          "execution_count": 19
        }
      ]
    },
    {
      "cell_type": "code",
      "source": [
        "\n",
        "%%shell\n",
        "\n",
        "lex message.l\n",
        "gcc lex.yy.c -o message -ll\n",
        "./message < input.txt\n"
      ],
      "metadata": {
        "colab": {
          "base_uri": "https://localhost:8080/"
        },
        "id": "tqpZgNYpe263",
        "outputId": "2c3237f5-3d82-489a-cfda-4b82995cf0b9"
      },
      "execution_count": 6,
      "outputs": [
        {
          "output_type": "stream",
          "name": "stdout",
          "text": [
            "\n",
            "Hello! This program uses all LEX sections.\n",
            "Hello! This program uses all LEX sections.\n",
            "Hello! This program uses all LEX sections.\n",
            "\n"
          ]
        },
        {
          "output_type": "execute_result",
          "data": {
            "text/plain": []
          },
          "metadata": {},
          "execution_count": 6
        }
      ]
    },
    {
      "cell_type": "markdown",
      "source": [
        "2) Implement a Lexical Analyzer Using Lex Tool"
      ],
      "metadata": {
        "id": "CfAohfa2aJ5v"
      }
    },
    {
      "cell_type": "code",
      "source": [
        "%%writefile lexical_analyzer.l\n",
        "%{\n",
        "#include <stdio.h>\n",
        "%}\n",
        "\n",
        "/* Definition Section */\n",
        "%%\n",
        "\"int\"|\"float\"|\"if\"|\"else\"|\"return\"|\"while\"|\"for\"      { printf(\"Keyword: %s\\n\", yytext); }\n",
        "[0-9]+                                                { printf(\"Number: %s\\n\", yytext); }\n",
        "[a-zA-Z_][a-zA-Z0-9_]*                                { printf(\"Identifier: %s\\n\", yytext); }\n",
        "\"=\"|\"+\"|\"-\"|\"*\"|\"/\"|\"<\"|\">\"                          { printf(\"Operator: %s\\n\", yytext); }\n",
        "[ \\t\\n]+                                              { /* ignore whitespace */ }\n",
        ".                                                     { printf(\"Other: %s\\n\", yytext); }\n",
        "%%\n",
        "\n",
        "int main() {\n",
        "    yylex();\n",
        "    return 0;\n",
        "}\n"
      ],
      "metadata": {
        "colab": {
          "base_uri": "https://localhost:8080/"
        },
        "id": "eUvXcvCTaOBF",
        "outputId": "02e6d1b1-6fa5-4f63-c95a-1ce020680592"
      },
      "execution_count": 11,
      "outputs": [
        {
          "output_type": "stream",
          "name": "stdout",
          "text": [
            "Overwriting lexical_analyzer.l\n"
          ]
        }
      ]
    },
    {
      "cell_type": "code",
      "source": [
        "%%writefile input.c\n",
        "int a = 5;\n",
        "if (a > 2)\n",
        "    a = a + 1;\n"
      ],
      "metadata": {
        "colab": {
          "base_uri": "https://localhost:8080/"
        },
        "id": "3N3flmhcahdj",
        "outputId": "6b27dce8-8ecc-433c-bf7d-1b3311780ead"
      },
      "execution_count": 12,
      "outputs": [
        {
          "output_type": "stream",
          "name": "stdout",
          "text": [
            "Overwriting input.c\n"
          ]
        }
      ]
    },
    {
      "cell_type": "code",
      "source": [
        "%%shell\n",
        "lex lexical_analyzer.l\n",
        "gcc lex.yy.c -o lexical_analyzer -ll\n",
        "./lexical_analyzer < input.c\n"
      ],
      "metadata": {
        "colab": {
          "base_uri": "https://localhost:8080/"
        },
        "id": "SwgO2YHmapvC",
        "outputId": "7f54c01f-cb71-4b39-a40e-016366417416"
      },
      "execution_count": 13,
      "outputs": [
        {
          "output_type": "stream",
          "name": "stdout",
          "text": [
            "Keyword: int\n",
            "Identifier: a\n",
            "Operator: =\n",
            "Number: 5\n",
            "Other: ;\n",
            "Keyword: if\n",
            "Other: (\n",
            "Identifier: a\n",
            "Operator: >\n",
            "Number: 2\n",
            "Other: )\n",
            "Identifier: a\n",
            "Operator: =\n",
            "Identifier: a\n",
            "Operator: +\n",
            "Number: 1\n",
            "Other: ;\n"
          ]
        },
        {
          "output_type": "execute_result",
          "data": {
            "text/plain": []
          },
          "metadata": {},
          "execution_count": 13
        }
      ]
    },
    {
      "cell_type": "markdown",
      "source": [
        "## Yacc programs\n"
      ],
      "metadata": {
        "id": "9g3qzHuCe9s1"
      }
    },
    {
      "cell_type": "markdown",
      "source": [
        "3) To convert binary number to decimal number"
      ],
      "metadata": {
        "id": "SBV2c5pkbMlM"
      }
    },
    {
      "cell_type": "code",
      "source": [
        "%%writefile bin2dec.l\n",
        "%{\n",
        "#include \"y.tab.h\"\n",
        "%}\n",
        "\n",
        "%%\n",
        "[01]+   { yylval.num = atoi(yytext); return NUMBER; }\n",
        "\\n      { return '\\n'; }\n",
        ".       ;\n",
        "%%\n"
      ],
      "metadata": {
        "colab": {
          "base_uri": "https://localhost:8080/"
        },
        "id": "NcThRtsebcUF",
        "outputId": "6733f9b4-1f4c-4887-b643-d0767682360c"
      },
      "execution_count": 14,
      "outputs": [
        {
          "output_type": "stream",
          "name": "stdout",
          "text": [
            "Writing bin2dec.l\n"
          ]
        }
      ]
    },
    {
      "cell_type": "code",
      "source": [
        "%%writefile bin2dec.y\n",
        "%{\n",
        "#include <stdio.h>\n",
        "#include <math.h>\n",
        "int binToDec(int n);\n",
        "%}\n",
        "\n",
        "%token NUMBER\n",
        "%%\n",
        "start : NUMBER '\\n' {\n",
        "            printf(\"Decimal: %d\\n\", binToDec($1));\n",
        "            return 0;\n",
        "        }\n",
        "      ;\n",
        "%%\n",
        "\n",
        "int main() {\n",
        "    printf(\"Enter a binary number: \");\n",
        "    yyparse();\n",
        "    return 0;\n",
        "}\n",
        "\n",
        "int binToDec(int n) {\n",
        "    int dec = 0, base = 1, rem;\n",
        "    while (n > 0) {\n",
        "        rem = n % 10;\n",
        "        dec = dec + rem * base;\n",
        "        n = n / 10;\n",
        "        base = base * 2;\n",
        "    }\n",
        "    return dec;\n",
        "}\n"
      ],
      "metadata": {
        "colab": {
          "base_uri": "https://localhost:8080/"
        },
        "id": "R3EIM5mfbTk2",
        "outputId": "8a438974-08ed-4c11-ac8f-df1bf367e858"
      },
      "execution_count": 15,
      "outputs": [
        {
          "output_type": "stream",
          "name": "stdout",
          "text": [
            "Writing bin2dec.y\n"
          ]
        }
      ]
    },
    {
      "cell_type": "code",
      "source": [
        "%%shell\n",
        "lex bin2dec.l\n",
        "yacc -d  bin2dec.y\n",
        "gcc lex.yy.c y.tab.c -o  output -ll\n",
        "./output"
      ],
      "metadata": {
        "colab": {
          "base_uri": "https://localhost:8080/",
          "height": 619
        },
        "id": "4t7zcLpHbwwm",
        "outputId": "9693e050-4306-48a0-edd6-7d14adfb0f08"
      },
      "execution_count": 18,
      "outputs": [
        {
          "output_type": "stream",
          "name": "stdout",
          "text": [
            "\u001b[01m\u001b[Kbin2dec.l:\u001b[m\u001b[K In function ‘\u001b[01m\u001b[Kyylex\u001b[m\u001b[K’:\n",
            "\u001b[01m\u001b[Kbin2dec.l:6:9:\u001b[m\u001b[K \u001b[01;31m\u001b[Kerror: \u001b[m\u001b[Krequest for member ‘\u001b[01m\u001b[Knum\u001b[m\u001b[K’ in something not a structure or union\n",
            "    6 | [01]+   \u001b[01;31m\u001b[K{\u001b[m\u001b[K yylval.num = atoi(yytext); return NUMBER; }\n",
            "      |         \u001b[01;31m\u001b[K^\u001b[m\u001b[K\n",
            "\u001b[01m\u001b[Ky.tab.c:\u001b[m\u001b[K In function ‘\u001b[01m\u001b[Kyyparse\u001b[m\u001b[K’:\n",
            "\u001b[01m\u001b[Ky.tab.c:1011:16:\u001b[m\u001b[K \u001b[01;35m\u001b[Kwarning: \u001b[m\u001b[Kimplicit declaration of function ‘\u001b[01m\u001b[Kyylex\u001b[m\u001b[K’ [\u001b[01;35m\u001b[K\u001b]8;;https://gcc.gnu.org/onlinedocs/gcc/Warning-Options.html#index-Wimplicit-function-declaration\u0007-Wimplicit-function-declaration\u001b]8;;\u0007\u001b[m\u001b[K]\n",
            " 1011 |       yychar = \u001b[01;35m\u001b[Kyylex\u001b[m\u001b[K ();\n",
            "      |                \u001b[01;35m\u001b[K^~~~~\u001b[m\u001b[K\n",
            "\u001b[01m\u001b[Ky.tab.c:1155:7:\u001b[m\u001b[K \u001b[01;35m\u001b[Kwarning: \u001b[m\u001b[Kimplicit declaration of function ‘\u001b[01m\u001b[Kyyerror\u001b[m\u001b[K’; did you mean ‘\u001b[01m\u001b[Kyyerrok\u001b[m\u001b[K’? [\u001b[01;35m\u001b[K\u001b]8;;https://gcc.gnu.org/onlinedocs/gcc/Warning-Options.html#index-Wimplicit-function-declaration\u0007-Wimplicit-function-declaration\u001b]8;;\u0007\u001b[m\u001b[K]\n",
            " 1155 |       \u001b[01;35m\u001b[Kyyerror\u001b[m\u001b[K (YY_(\"syntax error\"));\n",
            "      |       \u001b[01;35m\u001b[K^~~~~~~\u001b[m\u001b[K\n",
            "      |       \u001b[32m\u001b[Kyyerrok\u001b[m\u001b[K\n",
            "/bin/bash: line 4: ./output: No such file or directory\n"
          ]
        },
        {
          "output_type": "error",
          "ename": "CalledProcessError",
          "evalue": "Command 'lex bin2dec.l\nyacc -d  bin2dec.y\ngcc lex.yy.c y.tab.c -o  output -ll\n./output\n' returned non-zero exit status 127.",
          "traceback": [
            "\u001b[0;31m---------------------------------------------------------------------------\u001b[0m",
            "\u001b[0;31mCalledProcessError\u001b[0m                        Traceback (most recent call last)",
            "\u001b[0;32m/tmp/ipython-input-3210915108.py\u001b[0m in \u001b[0;36m<cell line: 0>\u001b[0;34m()\u001b[0m\n\u001b[0;32m----> 1\u001b[0;31m \u001b[0mget_ipython\u001b[0m\u001b[0;34m(\u001b[0m\u001b[0;34m)\u001b[0m\u001b[0;34m.\u001b[0m\u001b[0mrun_cell_magic\u001b[0m\u001b[0;34m(\u001b[0m\u001b[0;34m'shell'\u001b[0m\u001b[0;34m,\u001b[0m \u001b[0;34m''\u001b[0m\u001b[0;34m,\u001b[0m \u001b[0;34m'lex bin2dec.l\\nyacc -d  bin2dec.y\\ngcc lex.yy.c y.tab.c -o  output -ll\\n./output\\n'\u001b[0m\u001b[0;34m)\u001b[0m\u001b[0;34m\u001b[0m\u001b[0;34m\u001b[0m\u001b[0m\n\u001b[0m",
            "\u001b[0;32m/usr/local/lib/python3.12/dist-packages/google/colab/_shell.py\u001b[0m in \u001b[0;36mrun_cell_magic\u001b[0;34m(self, magic_name, line, cell)\u001b[0m\n\u001b[1;32m    274\u001b[0m     \u001b[0;32mif\u001b[0m \u001b[0mline\u001b[0m \u001b[0;32mand\u001b[0m \u001b[0;32mnot\u001b[0m \u001b[0mcell\u001b[0m\u001b[0;34m:\u001b[0m\u001b[0;34m\u001b[0m\u001b[0;34m\u001b[0m\u001b[0m\n\u001b[1;32m    275\u001b[0m       \u001b[0mcell\u001b[0m \u001b[0;34m=\u001b[0m \u001b[0;34m' '\u001b[0m\u001b[0;34m\u001b[0m\u001b[0;34m\u001b[0m\u001b[0m\n\u001b[0;32m--> 276\u001b[0;31m     \u001b[0;32mreturn\u001b[0m \u001b[0msuper\u001b[0m\u001b[0;34m(\u001b[0m\u001b[0;34m)\u001b[0m\u001b[0;34m.\u001b[0m\u001b[0mrun_cell_magic\u001b[0m\u001b[0;34m(\u001b[0m\u001b[0mmagic_name\u001b[0m\u001b[0;34m,\u001b[0m \u001b[0mline\u001b[0m\u001b[0;34m,\u001b[0m \u001b[0mcell\u001b[0m\u001b[0;34m)\u001b[0m\u001b[0;34m\u001b[0m\u001b[0;34m\u001b[0m\u001b[0m\n\u001b[0m\u001b[1;32m    277\u001b[0m \u001b[0;34m\u001b[0m\u001b[0m\n\u001b[1;32m    278\u001b[0m \u001b[0;34m\u001b[0m\u001b[0m\n",
            "\u001b[0;32m/usr/local/lib/python3.12/dist-packages/IPython/core/interactiveshell.py\u001b[0m in \u001b[0;36mrun_cell_magic\u001b[0;34m(self, magic_name, line, cell)\u001b[0m\n\u001b[1;32m   2471\u001b[0m             \u001b[0;32mwith\u001b[0m \u001b[0mself\u001b[0m\u001b[0;34m.\u001b[0m\u001b[0mbuiltin_trap\u001b[0m\u001b[0;34m:\u001b[0m\u001b[0;34m\u001b[0m\u001b[0;34m\u001b[0m\u001b[0m\n\u001b[1;32m   2472\u001b[0m                 \u001b[0margs\u001b[0m \u001b[0;34m=\u001b[0m \u001b[0;34m(\u001b[0m\u001b[0mmagic_arg_s\u001b[0m\u001b[0;34m,\u001b[0m \u001b[0mcell\u001b[0m\u001b[0;34m)\u001b[0m\u001b[0;34m\u001b[0m\u001b[0;34m\u001b[0m\u001b[0m\n\u001b[0;32m-> 2473\u001b[0;31m                 \u001b[0mresult\u001b[0m \u001b[0;34m=\u001b[0m \u001b[0mfn\u001b[0m\u001b[0;34m(\u001b[0m\u001b[0;34m*\u001b[0m\u001b[0margs\u001b[0m\u001b[0;34m,\u001b[0m \u001b[0;34m**\u001b[0m\u001b[0mkwargs\u001b[0m\u001b[0;34m)\u001b[0m\u001b[0;34m\u001b[0m\u001b[0;34m\u001b[0m\u001b[0m\n\u001b[0m\u001b[1;32m   2474\u001b[0m             \u001b[0;32mreturn\u001b[0m \u001b[0mresult\u001b[0m\u001b[0;34m\u001b[0m\u001b[0;34m\u001b[0m\u001b[0m\n\u001b[1;32m   2475\u001b[0m \u001b[0;34m\u001b[0m\u001b[0m\n",
            "\u001b[0;32m/usr/local/lib/python3.12/dist-packages/google/colab/_system_commands.py\u001b[0m in \u001b[0;36m_shell_cell_magic\u001b[0;34m(args, cmd)\u001b[0m\n\u001b[1;32m    110\u001b[0m   \u001b[0mresult\u001b[0m \u001b[0;34m=\u001b[0m \u001b[0m_run_command\u001b[0m\u001b[0;34m(\u001b[0m\u001b[0mcmd\u001b[0m\u001b[0;34m,\u001b[0m \u001b[0mclear_streamed_output\u001b[0m\u001b[0;34m=\u001b[0m\u001b[0;32mFalse\u001b[0m\u001b[0;34m)\u001b[0m\u001b[0;34m\u001b[0m\u001b[0;34m\u001b[0m\u001b[0m\n\u001b[1;32m    111\u001b[0m   \u001b[0;32mif\u001b[0m \u001b[0;32mnot\u001b[0m \u001b[0mparsed_args\u001b[0m\u001b[0;34m.\u001b[0m\u001b[0mignore_errors\u001b[0m\u001b[0;34m:\u001b[0m\u001b[0;34m\u001b[0m\u001b[0;34m\u001b[0m\u001b[0m\n\u001b[0;32m--> 112\u001b[0;31m     \u001b[0mresult\u001b[0m\u001b[0;34m.\u001b[0m\u001b[0mcheck_returncode\u001b[0m\u001b[0;34m(\u001b[0m\u001b[0;34m)\u001b[0m\u001b[0;34m\u001b[0m\u001b[0;34m\u001b[0m\u001b[0m\n\u001b[0m\u001b[1;32m    113\u001b[0m   \u001b[0;32mreturn\u001b[0m \u001b[0mresult\u001b[0m\u001b[0;34m\u001b[0m\u001b[0;34m\u001b[0m\u001b[0m\n\u001b[1;32m    114\u001b[0m \u001b[0;34m\u001b[0m\u001b[0m\n",
            "\u001b[0;32m/usr/local/lib/python3.12/dist-packages/google/colab/_system_commands.py\u001b[0m in \u001b[0;36mcheck_returncode\u001b[0;34m(self)\u001b[0m\n\u001b[1;32m    135\u001b[0m   \u001b[0;32mdef\u001b[0m \u001b[0mcheck_returncode\u001b[0m\u001b[0;34m(\u001b[0m\u001b[0mself\u001b[0m\u001b[0;34m)\u001b[0m\u001b[0;34m:\u001b[0m\u001b[0;34m\u001b[0m\u001b[0;34m\u001b[0m\u001b[0m\n\u001b[1;32m    136\u001b[0m     \u001b[0;32mif\u001b[0m \u001b[0mself\u001b[0m\u001b[0;34m.\u001b[0m\u001b[0mreturncode\u001b[0m\u001b[0;34m:\u001b[0m\u001b[0;34m\u001b[0m\u001b[0;34m\u001b[0m\u001b[0m\n\u001b[0;32m--> 137\u001b[0;31m       raise subprocess.CalledProcessError(\n\u001b[0m\u001b[1;32m    138\u001b[0m           \u001b[0mreturncode\u001b[0m\u001b[0;34m=\u001b[0m\u001b[0mself\u001b[0m\u001b[0;34m.\u001b[0m\u001b[0mreturncode\u001b[0m\u001b[0;34m,\u001b[0m \u001b[0mcmd\u001b[0m\u001b[0;34m=\u001b[0m\u001b[0mself\u001b[0m\u001b[0;34m.\u001b[0m\u001b[0margs\u001b[0m\u001b[0;34m,\u001b[0m \u001b[0moutput\u001b[0m\u001b[0;34m=\u001b[0m\u001b[0mself\u001b[0m\u001b[0;34m.\u001b[0m\u001b[0moutput\u001b[0m\u001b[0;34m\u001b[0m\u001b[0;34m\u001b[0m\u001b[0m\n\u001b[1;32m    139\u001b[0m       )\n",
            "\u001b[0;31mCalledProcessError\u001b[0m: Command 'lex bin2dec.l\nyacc -d  bin2dec.y\ngcc lex.yy.c y.tab.c -o  output -ll\n./output\n' returned non-zero exit status 127."
          ]
        }
      ]
    }
  ]
}